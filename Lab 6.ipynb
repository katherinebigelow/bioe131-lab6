{
 "cells": [
  {
   "cell_type": "markdown",
   "metadata": {},
   "source": [
    "## Debbie Pao and Katherine Bigelow\n",
    "\n",
    "### Lab 6"
   ]
  },
  {
   "cell_type": "markdown",
   "metadata": {},
   "source": [
    "# Part 1: Align the reads to the human genome\n",
    "\n",
    "The command I used is:\n",
    "bowtie2 -p 4 --very-fast --no-unal -x /data/hg19/hg19 -U /data/lab6/illumina_reads.fastq -S output.sam --un isolated_shewanella.fastq\n",
    "\n",
    "The output I got is:  \n",
    "1124714 reads; of these:  \n",
    "  1124714 (100.00%) were unpaired; of these:  \n",
    "    1028346 (91.43%) aligned 0 times  \n",
    "    86808 (7.72%) aligned exactly 1 time  \n",
    "    9560 (0.85%) aligned >1 times  \n",
    "8.57% overall alignment rate  \n",
    "\n"
   ]
  },
  {
   "cell_type": "markdown",
   "metadata": {},
   "source": [
    "Thus, from the output, we see that 8.57% of the sequencing library came from contaminating human DNA."
   ]
  },
  {
   "cell_type": "markdown",
   "metadata": {},
   "source": [
    "# Part 2: Align the reads to the S. oneidensisreference genome\n",
    "\n",
    "This time the command I used is: bowtie2 -p 4 --very-fast --no-unal -x /data/lab6/shewanella_oneidensis_mr-1 -U isolated_shewanella.fastq -S output2.sam --un garbage.fastq\n",
    "\n",
    "\n",
    "The output is:  \n",
    "1028379 reads; of these:  \n",
    "  1028379 (100.00%) were unpaired; of these:  \n",
    "    299560 (29.13%) aligned 0 times  \n",
    "    687571 (66.86%) aligned exactly 1 time  \n",
    "    41248 (4.01%) aligned >1 times  \n",
    "70.87% overall alignment rate  "
   ]
  },
  {
   "cell_type": "markdown",
   "metadata": {},
   "source": [
    "From the output we got, we see that 29.13% did not align the reference genome. When I ran the command again with --very-sensitive, we get:\n",
    "1028379 reads; of these:  \n",
    "  1028379 (100.00%) were unpaired; of these:  \n",
    "    298112 (28.99%) aligned 0 times  \n",
    "    688180 (66.92%) aligned exactly 1 time  \n",
    "    42087 (4.09%) aligned >1 times  \n",
    "71.01% overall alignment rate  "
   ]
  },
  {
   "cell_type": "markdown",
   "metadata": {},
   "source": [
    "Thus, there is not much of a difference. Now, 28.99% did not align the reference genome. This percentage decreased slightly."
   ]
  },
  {
   "cell_type": "markdown",
   "metadata": {},
   "source": [
    "# Part 3: Generate a coverage plot"
   ]
  },
  {
   "cell_type": "markdown",
   "metadata": {},
   "source": [
    "The commands I used are:  \n",
    "samtools view -b output2.sam > aligned.bam  \n",
    "samtools sort aligned.bam > alignedSorted.bam  \n",
    "samtools index alignedSorted.bam  \n",
    "samtools depth -a alignedSorted.bam > coverage.tab  \n"
   ]
  },
  {
   "cell_type": "code",
   "execution_count": 1,
   "metadata": {
    "collapsed": true
   },
   "outputs": [],
   "source": [
    "import matplotlib.pyplot as plt\n",
    "import numpy as np\n",
    "import pandas as pd"
   ]
  },
  {
   "cell_type": "code",
   "execution_count": 2,
   "metadata": {
    "collapsed": true
   },
   "outputs": [],
   "source": [
    "file = open(\"coverage.tab\", \"r\")\n",
    "position = []\n",
    "depth = []\n",
    "for curr in file.readlines():\n",
    "    curr = curr[:-1]\n",
    "    curr_split = curr.split(\"\\t\")\n",
    "    position += [int(curr_split[1])]\n",
    "    depth += [int(curr_split[2])]\n",
    "file.close()"
   ]
  },
  {
   "cell_type": "code",
   "execution_count": 3,
   "metadata": {},
   "outputs": [
    {
     "name": "stdout",
     "output_type": "stream",
     "text": [
      "min depth: \n",
      "0\n",
      "max depth: \n",
      "281\n",
      "mean depth: \n",
      "37\n"
     ]
    }
   ],
   "source": [
    "# print the min coverage\n",
    "print(\"min depth: \")\n",
    "print(min(depth))\n",
    "print(\"max depth: \")\n",
    "print(max(depth))\n",
    "print(\"mean depth: \")\n",
    "print(int(sum(depth)/len(depth)))\n",
    "mean = int(sum(depth)/len(depth))"
   ]
  },
  {
   "cell_type": "code",
   "execution_count": 5,
   "metadata": {},
   "outputs": [
    {
     "data": {
      "image/png": "[encoded data removed]",
      "text/plain": [
       "<matplotlib.figure.Figure at 0x10cbb6e80>"
      ]
     },
     "metadata": {},
     "output_type": "display_data"
    }
   ],
   "source": [
    "plt.plot(position, depth)\n",
    "plt.xlabel('Position in Genome')\n",
    "plt.ylabel('Depth of Coverage')\n",
    "plt.show()"
   ]
  },
  {
   "cell_type": "code",
   "execution_count": 8,
   "metadata": {},
   "outputs": [
    {
     "data": {
      "image/png": "[encoded data removed]",
      "text/plain": [
       "<matplotlib.figure.Figure at 0x10cc15c88>"
      ]
     },
     "metadata": {},
     "output_type": "display_data"
    }
   ],
   "source": [
    "fig = plt.figure()\n",
    "ax = fig.add_subplot(111)\n",
    "bar = ax.hist(depth, bins= 100)\n",
    "plt.xlabel('Depth of the Coverage')\n",
    "plt.ylabel('Count')\n",
    "plt.show()"
   ]
  },
  {
   "cell_type": "code",
   "execution_count": null,
   "metadata": {
    "collapsed": true
   },
   "outputs": [],
   "source": []
  }
 ],
 "metadata": {
  "kernelspec": {
   "display_name": "Python 3",
   "language": "python",
   "name": "python3"
  },
  "language_info": {
   "codemirror_mode": {
    "name": "ipython",
    "version": 3
   },
   "file_extension": ".py",
   "mimetype": "text/x-python",
   "name": "python",
   "nbconvert_exporter": "python",
   "pygments_lexer": "ipython3",
   "version": "3.6.3"
  }
 },
 "nbformat": 4,
 "nbformat_minor": 2
}
